{
 "cells": [
  {
   "cell_type": "markdown",
   "metadata": {},
   "source": [
    "Let's consider an observation-outcome sequence of the form $x_1, x_2, ..., x_m,z$ , where each $x_t$ is the an observation and  $z$ is the outcome."
   ]
  },
  {
   "cell_type": "markdown",
   "metadata": {},
   "source": [
    "For each observation $x_t$, the learner produces a prediction $P_t$ that is an approximation of $z$. These predictions also depend on a vector of modifiable parameters $w$, and can thus be written as $P(x_t, w)$"
   ]
  },
  {
   "cell_type": "markdown",
   "metadata": {},
   "source": [
    "Let's assume for the moment the the parameter vector $w$ is __updated at the end__ of the sequence. Thus,  for each observation, we compute an icrement $\\Delta w_t$ and at the end of the sequence $w$ will be changed by the sum of all the computed increments:\n",
    "\n",
    "$$ w \\leftarrow w + \\sum_{t=1}^m \\Delta w_t \\quad (1)$$"
   ]
  },
  {
   "cell_type": "markdown",
   "metadata": {},
   "source": [
    "<h1>__Supervised learning__</h1> \n",
    "\n",
    "treats each sequence $x_1,...,x_m,z$ as a sequence of observation-outcome pairs $(x_1,z),(x_2,z),...,(x_m,z)$. The increment $\\Delta w_t$ will depend on the error between $P_t$ and $z$; in particular:\n",
    "\n",
    "$$ \\Delta w_t = \\alpha(z - P_t)\\nabla_w P_t \\quad (2)$$\n",
    "\n",
    "The important thing to notice is that $\\Delta w_t$ always depends on $z$, and thus cannot be computed until the end of the sequence, when $z$ becomes known.\n",
    "\n"
   ]
  },
  {
   "cell_type": "markdown",
   "metadata": {},
   "source": [
    "<h1>__TD(1)__</h1>\n",
    "\n",
    "produces exactly the same result as (2), but can be computed incrementally. In fact we can consider the error $$z - P_t$$ as the sum of changes in predictions during steps following $t$, that is:\n",
    "\n",
    "$$ z-P_t = \\sum_{k=t}^m (P_{k+1} - P_k), \\quad with ~ P_{m+1} = z$$\n",
    "\n",
    "then, through algebric manipulations, \n",
    "\n",
    "\n",
    "$$ w \\leftarrow w + \\sum_{t=1}^m  \\alpha(z - P_t)\\nabla_w P_t = w+ \\sum_{t=1}^m \\alpha(P_{t+1} - P_t) \\sum_{k=1}^t\\nabla_wP_k   $$\n",
    "\n",
    "and thus\n",
    "\n",
    "$$ \\Delta w_t = \\alpha(P_{t+1} - P_t) \\sum_{k=1}^t\\nabla_wP_k \\quad (3) $$"
   ]
  },
  {
   "cell_type": "markdown",
   "metadata": {},
   "source": [
    "<h1>__TD($\\lambda$)__</h1>\n",
    "\n",
    "generalizes (3), making greater alterations to more recent predictions. In particular, alterations of past predictions are weighted exponentially. An important thing to notice is that this weighting form can be computed incrementally, in fact:\n",
    "\n",
    "$$ \\Delta w_t = \\alpha(P_{t+1} - P_t) \\sum_{k=1}^t\\lambda^{t-k} \\nabla_wP_k \\quad $$ \n",
    "where\n",
    "$$ \\sum_{k=1}^t\\lambda^{t-k} \\nabla_wP_k = e_t$$\n",
    "\n",
    "and \n",
    "\n",
    "$$ e_{t+1} = \\sum_{k=1}^{t+1}\\lambda^{t+-k} \\nabla_wP_k \\\\\n",
    "= \\nabla_w P_{t+1} + \\lambda e_t$$"
   ]
  },
  {
   "cell_type": "markdown",
   "metadata": {},
   "source": [
    "## Experiments"
   ]
  },
  {
   "cell_type": "markdown",
   "metadata": {},
   "source": [
    "We consider a random walk made of 5 states, starting always from the middle state, that at each step can move either left or right with equal probability. Each walk can end on the right node with reward +1 or at the left node with reward -1. For each state, we want to estimate the probability of terminating at the right end from it"
   ]
  },
  {
   "cell_type": "markdown",
   "metadata": {},
   "source": [
    "100 training set, each made of 10 random sequences, have been constructed in order to evaluate the learning algorithms "
   ]
  },
  {
   "cell_type": "markdown",
   "metadata": {},
   "source": [
    "<img src='images/Capture.PNG'> "
   ]
  },
  {
   "cell_type": "markdown",
   "metadata": {},
   "source": [
    "In the first experiment, we present each training set until convergence. The parameter vector is updated after all the sequences of a training set have been processed."
   ]
  },
  {
   "cell_type": "code",
   "execution_count": 72,
   "metadata": {
    "collapsed": true
   },
   "outputs": [],
   "source": [
    "import numpy as np\n",
    "import matplotlib.pyplot as plt"
   ]
  },
  {
   "cell_type": "code",
   "execution_count": 73,
   "metadata": {
    "collapsed": true
   },
   "outputs": [],
   "source": [
    "%matplotlib inline"
   ]
  },
  {
   "cell_type": "code",
   "execution_count": 74,
   "metadata": {
    "collapsed": false
   },
   "outputs": [],
   "source": [
    "class bounded_random_walk(object):\n",
    "    \n",
    "    def __init__(self):\n",
    "        self.states = np.eye(5)\n",
    "    \n",
    "    def get_start(self):\n",
    "        return 2\n",
    "    \n",
    "    def state_vector(self,state):\n",
    "        return self.states[state]\n",
    "    \n",
    "    def get_next(self,state):\n",
    "        #left\n",
    "        if np.random.binomial(1,0.5):\n",
    "            return state-1\n",
    "        #right\n",
    "        else:\n",
    "            return state+1\n",
    "    \n",
    "    def is_terminal(self, state):\n",
    "        return state==-1 or state==5\n",
    "    \n",
    "    def get_outcome(self, state):\n",
    "        if state == -1:\n",
    "            return 0\n",
    "        elif state==5:\n",
    "            return 1\n",
    "        else:\n",
    "            print(\"Error: outcome defined only for terminal states\")\n",
    "            raw_input(\"Pausa\")\n",
    "            return -1"
   ]
  },
  {
   "cell_type": "code",
   "execution_count": 75,
   "metadata": {
    "collapsed": false
   },
   "outputs": [],
   "source": [
    "walk = bounded_random_walk()"
   ]
  },
  {
   "cell_type": "code",
   "execution_count": 76,
   "metadata": {
    "collapsed": false
   },
   "outputs": [],
   "source": [
    "true_w = np.array([1./6, 1./3,1./2,2./3,5./6])"
   ]
  },
  {
   "cell_type": "code",
   "execution_count": 77,
   "metadata": {
    "collapsed": true
   },
   "outputs": [],
   "source": [
    "## Build training set\n",
    "episodes = []\n",
    "for run in range(100):\n",
    "    trainset = []\n",
    "    for i in range(10):\n",
    "        e = []\n",
    "        state = walk.get_start()\n",
    "        e.append(state)\n",
    "        while (not walk.is_terminal(state)):\n",
    "            nextState = walk.get_next(state)\n",
    "            e.append(nextState)\n",
    "            state = nextState\n",
    "        trainset.append(e)\n",
    "    episodes.append(trainset)"
   ]
  },
  {
   "cell_type": "code",
   "execution_count": 78,
   "metadata": {
    "collapsed": false
   },
   "outputs": [],
   "source": [
    "from IPython.display import clear_output\n",
    "import sys"
   ]
  },
  {
   "cell_type": "code",
   "execution_count": 79,
   "metadata": {
    "collapsed": true
   },
   "outputs": [],
   "source": [
    "l_list = [0. ,0.1, 0.3, 0.5, 0.7, 0.9, 1.] "
   ]
  },
  {
   "cell_type": "code",
   "execution_count": 80,
   "metadata": {
    "collapsed": false
   },
   "outputs": [
    {
     "name": "stdout",
     "output_type": "stream",
     "text": [
      "1.0\n",
      "99\n"
     ]
    }
   ],
   "source": [
    "eps = 10**(-4)\n",
    "alpha = 0.001\n",
    "\n",
    "\n",
    "w_results = np.zeros((len(l_list), 100, 5))\n",
    "\n",
    "for idx_l,l in enumerate(l_list):    \n",
    "    for nb_trainset in range(100):\n",
    "        clear_output()\n",
    "        print (l)\n",
    "        print (nb_trainset)\n",
    "        sys.stdout.flush()\n",
    "        w = np.zeros(5)\n",
    "        delta = eps+1\n",
    "        trainset = episodes[nb_trainset]\n",
    "        while (delta > eps):\n",
    "            delta = 0\n",
    "            delta_w = 0\n",
    "            for e in range(10):\n",
    "                episode = trainset[e]    \n",
    "                et = 0\n",
    "                for idx, state in enumerate(episode):            \n",
    "                    if (walk.is_terminal(state)):\n",
    "                        break\n",
    "                    nextState = episode[idx+1]\n",
    "\n",
    "                    phi_state     = walk.state_vector(state)\n",
    "                    Pt  = phi_state.dot(w)\n",
    "\n",
    "                    if (walk.is_terminal(nextState)):\n",
    "                        Pt1 = walk.get_outcome(nextState)\n",
    "                    else:\n",
    "                        phi_nextState = walk.state_vector(nextState)\n",
    "                        Pt1 = phi_nextState.dot(w)   \n",
    "                    \n",
    "                    et = l*et + phi_state\n",
    "                    delta_w += alpha * (Pt1 - Pt) * et\n",
    "\n",
    "            delta = np.max(delta_w)\n",
    "            w += delta_w\n",
    "        w_results[idx_l,nb_trainset,:] = w"
   ]
  },
  {
   "cell_type": "code",
   "execution_count": 81,
   "metadata": {
    "collapsed": false
   },
   "outputs": [],
   "source": [
    "def rmse(w):\n",
    "    return np.sqrt(np.mean((true_w-w)**2))"
   ]
  },
  {
   "cell_type": "code",
   "execution_count": 82,
   "metadata": {
    "collapsed": false
   },
   "outputs": [],
   "source": [
    "errors = np.zeros((len(l_list),100))\n",
    "for idx_l,_ in enumerate(l_list):\n",
    "    for idx_trainset in range(100):\n",
    "        errors[idx_l,idx_trainset] = rmse(w_results[idx_l,idx_trainset])"
   ]
  },
  {
   "cell_type": "code",
   "execution_count": 83,
   "metadata": {
    "collapsed": false
   },
   "outputs": [
    {
     "data": {
      "image/png": "[encoded data removed]",
      "text/plain": [
       "<matplotlib.figure.Figure at 0x2b0f1b0ba58>"
      ]
     },
     "metadata": {},
     "output_type": "display_data"
    }
   ],
   "source": [
    "errors_avg = np.mean(errors, axis=1)\n",
    "plt.plot(range(len(l_list)), errors_avg, marker='.', markersize ='10')\n",
    "plt.xlabel(r'$\\lambda$', fontsize=16)\n",
    "plt.ylabel('RMSE', fontsize=16)\n",
    "plt.xticks(range(7), [0. ,0.1, 0.3, 0.5, 0.7, 0.9, 1.])\n",
    "plt.annotate('Widrow-Hoff',\n",
    "             xy=(6, errors_avg[-1]), xycoords='data',\n",
    "             xytext=(+10, +30), textcoords='offset points', fontsize=16,\n",
    "             arrowprops=dict(arrowstyle=\"->\", connectionstyle=\"arc3,rad=.2\"))\n",
    "\n",
    "\n",
    "plt.show()\n"
   ]
  },
  {
   "cell_type": "markdown",
   "metadata": {},
   "source": [
    "As we can see, the error decreases as $\\lambda$ becomes smaller. In fact, Widorw-Hoff algorithm only minimizes the Mean Squared Error between the predictions and the actual outcomes in the training set, it doesn't necessary minimizes the error on future experience. TD(0), instead, converges to the maximum likelihood estimates of the undrlying Markov process"
   ]
  },
  {
   "cell_type": "markdown",
   "metadata": {},
   "source": [
    "In order to confirm that above observation, we compute the training set error for various values of $\\lambda$"
   ]
  },
  {
   "cell_type": "code",
   "execution_count": 84,
   "metadata": {
    "collapsed": false
   },
   "outputs": [],
   "source": [
    "def rmse_trainset(idx_l, idx_trainset):\n",
    "    w_final = w_results[idx_l, idx_trainset]\n",
    "    trainset= episodes[idx_trainset]\n",
    "    SE    = 0\n",
    "    nbObs = 0\n",
    "    for episode in trainset:\n",
    "        ep_return = walk.get_outcome(episode[-1])\n",
    "        for state in episode:\n",
    "            if walk.is_terminal(state):\n",
    "                continue\n",
    "            SE   += (w_final[state] - ep_return)**2\n",
    "            nbObs+= 1\n",
    "        \n",
    "    return np.sqrt(float(SE)/nbObs)"
   ]
  },
  {
   "cell_type": "code",
   "execution_count": 85,
   "metadata": {
    "collapsed": false
   },
   "outputs": [],
   "source": [
    "errors_train = np.zeros((7, 100))\n",
    "for idx_l in range(7):\n",
    "    for idx_trainset in range(100):\n",
    "        errors_train[idx_l, idx_trainset] = rmse_trainset(idx_l, idx_trainset)"
   ]
  },
  {
   "cell_type": "code",
   "execution_count": 86,
   "metadata": {
    "collapsed": false
   },
   "outputs": [
    {
     "data": {
      "image/png": "[encoded data removed]",
      "text/plain": [
       "<matplotlib.figure.Figure at 0x2b0f2fc95f8>"
      ]
     },
     "metadata": {},
     "output_type": "display_data"
    }
   ],
   "source": [
    "errors_train_avg = np.mean(errors_train, axis=1)\n",
    "plt.plot(range(len(l_list)), errors_train_avg, marker='.', markersize ='10')\n",
    "plt.xlabel(r'$\\lambda$', fontsize=16)\n",
    "plt.ylabel('RMSE', fontsize=16)\n",
    "plt.xticks(range(7), [0. ,0.1, 0.3, 0.5, 0.7, 0.9, 1.])\n",
    "plt.annotate('Widrow-Hoff',\n",
    "             xy=(6, errors_train_avg[-1]), xycoords='data',\n",
    "             xytext=(+10, +30), textcoords='offset points', fontsize=16,\n",
    "             arrowprops=dict(arrowstyle=\"->\", connectionstyle=\"arc3,rad=.2\"))\n",
    "\n",
    "\n",
    "plt.show()"
   ]
  },
  {
   "cell_type": "markdown",
   "metadata": {},
   "source": [
    "The graph above confirms, as we expected, that Widrow-Hoff minimizes the error on the training set"
   ]
  },
  {
   "cell_type": "markdown",
   "metadata": {},
   "source": [
    "We finally want to investigate the effect of  $\\lambda $ and  $\\alpha $ in the case where each training set is presented only once and the parameter vector is updated after each sequence"
   ]
  },
  {
   "cell_type": "code",
   "execution_count": 61,
   "metadata": {
    "collapsed": false
   },
   "outputs": [
    {
     "name": "stdout",
     "output_type": "stream",
     "text": [
      "3\n"
     ]
    }
   ],
   "source": [
    "alpha_values = np.arange(0, 0.7, 0.05)\n",
    "w_results = np.zeros((4, alpha_values.shape[0], 100, 5 ))\n",
    "l_list = [0, 0.3, 0.8, 1]\n",
    "\n",
    "for idx_l in range(4):\n",
    "    clear_output()\n",
    "    print (idx_l)\n",
    "    l = l_list[idx_l]\n",
    "    for idx_alpha in range(alpha_values.shape[0]):\n",
    "        alpha = alpha_values[idx_alpha]\n",
    "        for idx_trainset in range(100):\n",
    "            trainset = episodes[idx_trainset]\n",
    "            w = np.ones(5)*0.5\n",
    "            for e in range(10):\n",
    "                episode = trainset[e]    \n",
    "                et = 0                \n",
    "                delta_w = 0\n",
    "                for idx, state in enumerate(episode):            \n",
    "                    if (walk.is_terminal(state)):\n",
    "                        break\n",
    "                    nextState = episode[idx+1]\n",
    "\n",
    "                    phi_state     = walk.state_vector(state)\n",
    "                    Pt  = phi_state.dot(w)\n",
    "\n",
    "                    if (walk.is_terminal(nextState)):\n",
    "                        Pt1 = walk.get_outcome(nextState)\n",
    "                    else:\n",
    "                        phi_nextState = walk.state_vector(nextState)\n",
    "                        Pt1 = phi_nextState.dot(w)   \n",
    "                    \n",
    "                    et = l*et + phi_state\n",
    "                    delta_w += alpha * (Pt1 - Pt) * et                    \n",
    "\n",
    "                w += delta_w\n",
    "            w_results[idx_l, idx_alpha, idx_trainset] = w"
   ]
  },
  {
   "cell_type": "code",
   "execution_count": 62,
   "metadata": {
    "collapsed": false
   },
   "outputs": [],
   "source": [
    "errors = np.zeros((4, alpha_values.shape[0], 100))\n",
    "for idx_l in range(4):\n",
    "    for idx_alpha in range(alpha_values.shape[0]):\n",
    "        for idx_trainset in range(100):\n",
    "            errors[idx_l, idx_alpha, idx_trainset] = rmse(w_results[idx_l, idx_alpha, idx_trainset])"
   ]
  },
  {
   "cell_type": "code",
   "execution_count": 63,
   "metadata": {
    "collapsed": false
   },
   "outputs": [],
   "source": [
    "errors_avg = errors.mean(axis=2)"
   ]
  },
  {
   "cell_type": "code",
   "execution_count": 68,
   "metadata": {
    "collapsed": false
   },
   "outputs": [
    {
     "data": {
      "image/png": "[encoded data removed]",
      "text/plain": [
       "<matplotlib.figure.Figure at 0x2b0f262db38>"
      ]
     },
     "metadata": {},
     "output_type": "display_data"
    }
   ],
   "source": [
    "for idx_l in range(4):\n",
    "    plt.plot(alpha_values, errors_avg[idx_l], label=r'$\\lambda=$' + str(l_list[idx_l]), marker= '.', markersize=10)\n",
    "plt.legend(loc='upper left')\n",
    "plt.ylim(0,0.7)\n",
    "plt.xticks(np.arange(0,0.7,0.1))\n",
    "plt.xlabel(r'$\\alpha$', fontsize=16)\n",
    "plt.ylabel('RMSE', fontsize=16)\n",
    "plt.show()"
   ]
  }
 ],
 "metadata": {
  "kernelspec": {
   "display_name": "Python 3",
   "language": "python",
   "name": "python3"
  },
  "language_info": {
   "codemirror_mode": {
    "name": "ipython",
    "version": 3
   },
   "file_extension": ".py",
   "mimetype": "text/x-python",
   "name": "python",
   "nbconvert_exporter": "python",
   "pygments_lexer": "ipython3",
   "version": "3.6.0"
  }
 },
 "nbformat": 4,
 "nbformat_minor": 0
}
